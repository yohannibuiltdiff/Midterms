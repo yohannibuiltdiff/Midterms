{
  "cells": [
    {
      "cell_type": "code",
      "execution_count": 14,
      "metadata": {
        "colab": {
          "base_uri": "https://localhost:8080/"
        },
        "id": "sZBGGANyUvmg",
        "outputId": "1009cc17-782a-45c7-e9a3-b0d2502ddf2b"
      },
      "outputs": [
        {
          "name": "stdout",
          "output_type": "stream",
          "text": [
            "T-statistic: 0.9474088433196485\n",
            "P-value: 0.34621415334112615\n",
            "            Male     Female\n",
            "count  42.000000  42.000000\n",
            "mean    9.952381   9.547619\n",
            "std     2.230087   1.640975\n",
            "min     4.000000   6.000000\n",
            "25%     9.000000   9.000000\n",
            "50%    10.000000   9.000000\n",
            "75%    11.750000  11.000000\n",
            "max    15.000000  13.000000\n"
          ]
        }
      ],
      "source": [
        "import numpy as np\n",
        "import pandas as pd\n",
        "import scipy.stats as stats\n",
        "\n",
        "# Your data\n",
        "data = {'Male': [12, 7, 7, 10, 8, 10, 11, 9, 9, 13, 4, 9, 12, 11, 9, 9, 7, 12, 10, 13, 11, 10, 6, 12, 11, 9, 10, 12, 8, 9, 13, 10, 9, 7, 10, 15, 8, 9, 11, 13, 10, 13],\n",
        "        'Female': [11, 10, 11, 10, 11, 12, 12, 10, 9, 9, 9, 10, 8, 7, 12, 9, 7, 8, 9, 8, 7, 7, 9, 9, 10, 9, 13, 9, 10, 8, 9, 9, 10, 6, 12, 8, 11, 11, 12, 9, 10, 11]}\n",
        "\n",
        "df = pd.DataFrame(data)\n",
        "\n",
        "# Hypothesis Test\n",
        "t_statistic, p_value = stats.ttest_ind(df['Male'], df['Female'])\n",
        "print(f'T-statistic: {t_statistic}')\n",
        "print(f'P-value: {p_value}')\n",
        "\n",
        "# Descriptive Statistics\n",
        "print(df.describe())\n",
        "\n"
      ]
    },
    {
      "cell_type": "code",
      "execution_count": 15,
      "metadata": {
        "colab": {
          "base_uri": "https://localhost:8080/"
        },
        "id": "2OhqLorSV1ko",
        "outputId": "f6453486-cf59-4337-89e9-55fef2e47ceb"
      },
      "outputs": [
        {
          "name": "stdout",
          "output_type": "stream",
          "text": [
            "95% CI for Male: (9.25743700418314, 10.647324900578765)\n",
            "95% CI for Female: (9.036255229565832, 10.058982865672263)\n",
            "95% CI of their difference:(-1.1920152138533542, 2.0015390233771644)\n"
          ]
        }
      ],
      "source": [
        "# Confidence Intervals\n",
        "ci_male = stats.t.interval(0.95, len(df['Male']) - 1, loc=df['Male'].mean(), scale=stats.sem(df['Male']))\n",
        "ci_female = stats.t.interval(0.95, len(df['Female']) - 1, loc=df['Female'].mean(), scale=stats.sem(df['Female']))\n",
        "mean_difference = np.mean(ci_male) - np.mean(ci_female)\n",
        "ci_difference = stats.t.interval(0.95, len(ci_male) + len(ci_female) - 2, loc=mean_difference, scale=stats.sem(ci_male + ci_female))\n",
        "\n",
        "print(f'95% CI for Male: {ci_male}')\n",
        "print(f'95% CI for Female: {ci_female}')\n",
        "print(f'95% CI of their difference:{ci_difference}')"
      ]
    },
    {
      "cell_type": "code",
      "execution_count": 7,
      "metadata": {
        "colab": {
          "base_uri": "https://localhost:8080/"
        },
        "id": "I_j1uxpPV47f",
        "outputId": "d2855616-75d9-4f26-d399-ad76446a7d25"
      },
      "outputs": [
        {
          "name": "stdout",
          "output_type": "stream",
          "text": [
            "Shapiro-Wilk test for Male: p-value = 0.42676302790641785\n"
          ]
        }
      ],
      "source": [
        "# Assumptions Testing\n",
        "# You can use Shapiro-Wilk test for normality and Levene's test for equal variances\n",
        "shapiro_stat_male, shapiro_p_male = stats.shapiro(df['Male'])\n",
        "print(f'Shapiro-Wilk test for Male: p-value = {shapiro_p_male}')"
      ]
    },
    {
      "cell_type": "code",
      "execution_count": 8,
      "metadata": {
        "colab": {
          "base_uri": "https://localhost:8080/"
        },
        "id": "FAqRfFpVXHcf",
        "outputId": "b4fc7318-63a0-4bec-e8d6-94b906793e93"
      },
      "outputs": [
        {
          "name": "stdout",
          "output_type": "stream",
          "text": [
            "Shapiro-Wilk test for Female: p-value = 0.14825962483882904\n"
          ]
        }
      ],
      "source": [
        "shapiro_stat_female, shapiro_p_female = stats.shapiro(df['Female'])\n",
        "print(f'Shapiro-Wilk test for Female: p-value = {shapiro_p_female}')"
      ]
    },
    {
      "cell_type": "code",
      "execution_count": 11,
      "metadata": {
        "colab": {
          "base_uri": "https://localhost:8080/"
        },
        "id": "8lojGDC4XPWy",
        "outputId": "9a4ac1c5-4fbd-4aad-f9fe-4925206f685e"
      },
      "outputs": [
        {
          "name": "stdout",
          "output_type": "stream",
          "text": [
            "Levene's test for equal variances: p-value = 0.1468943320200691\n"
          ]
        }
      ],
      "source": [
        "levene_stat, levene_p = stats.levene(df['Male'], df['Female'])\n",
        "print(f'Levene\\'s test for equal variances: p-value = {levene_p}')"
      ]
    }
  ],
  "metadata": {
    "colab": {
      "provenance": []
    },
    "kernelspec": {
      "display_name": "Python 3",
      "name": "python3"
    },
    "language_info": {
      "name": "python"
    }
  },
  "nbformat": 4,
  "nbformat_minor": 0
}
